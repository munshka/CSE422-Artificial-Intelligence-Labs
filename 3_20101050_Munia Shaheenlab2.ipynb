{
 "cells": [
  {
   "cell_type": "code",
   "execution_count": 2,
   "id": "ab8bb3aa",
   "metadata": {},
   "outputs": [
    {
     "name": "stdout",
     "output_type": "stream",
     "text": [
      "28181858\n",
      "Generated 8 random points between the minimum and maximum point limits: [123, 20, 80, 17, 78, 11, 95, 10]\n",
      "Total points to win: 85\n",
      "Achieved point by applying alpha-beta pruning = 80\n",
      "The Winner is Megatron\n",
      "\n",
      "After the shuffle\n",
      "List of all points values from each shuffles: [80, 80, 80, 80, 20, 80, 78, 80] \n",
      "The maximum value of all shuffles: 80\n",
      "Won 0 times out of 8 number of shuffles\n"
     ]
    }
   ],
   "source": [
    "import math\n",
    "import random as rd\n",
    "m, n = math.inf, -math.inf\n",
    "\n",
    "def abprun(depth, pos, bool,values, alpha, beta):\n",
    "    if depth == 0:\n",
    "        return values[pos]\n",
    "   \n",
    "    if bool:\n",
    "        maxeval = n\n",
    "        for i in range(0, 2): \n",
    "            val = abprun(depth - 1, pos * 2 + i,False, values, alpha, beta)\n",
    "            maxeval = max(maxeval, val)\n",
    "            alpha = max(alpha, maxeval)\n",
    "            if beta <= alpha:\n",
    "                break\n",
    "        return maxeval\n",
    "\n",
    "    else:\n",
    "        mineval = m\n",
    "        for i in range(0, 2):\n",
    "            val = abprun(depth - 1, pos * 2 + i,True, values, alpha, beta)\n",
    "            mineval = min(mineval, val)\n",
    "            beta = min(beta, mineval)\n",
    "            if beta <= alpha:\n",
    "                break\n",
    "        return mineval\n",
    "\n",
    "Id=input() #28181858\n",
    "s=int(Id[3])   #total number of shuffles\n",
    "mini=int(Id[4])    #minvalue\n",
    "mv=int(Id[-1]+Id[-2])  #total points to win\n",
    "maxi= (mv*3)//2    #maxvalue\n",
    "\n",
    "\n",
    "values = []\n",
    "for i in range(8):\n",
    "    values.append(rd.randint(mini,maxi))\n",
    "print('Generated 8 random points between the minimum and maximum point limits:',values)\n",
    "\n",
    "sol= abprun(3, 0, True, values, n, m)\n",
    "\n",
    "print('Total points to win:',mv)\n",
    "print('Achieved point by applying alpha-beta pruning =',sol)\n",
    "\n",
    "if sol >= mv:\n",
    "    print('The winner is Optimus Prime')\n",
    "else:\n",
    "    print('The Winner is Megatron')\n",
    "\n",
    "#========================================= Task 2 =====================================================================\n",
    "track=[]\n",
    "count=0\n",
    "for i in range(s):\n",
    "    rd.shuffle(values)\n",
    "    sol2 = abprun(3, 0, True, values, n, m)\n",
    "    track.append(sol2)\n",
    "\n",
    "print('\\nAfter the shuffle\\nList of all points values from each shuffles:',track,'\\nThe maximum value of all shuffles:',max(track))\n",
    "for i in track:\n",
    "    if i>=mv:\n",
    "        count+=1\n",
    "print('Won', count ,'times out of', len(track) ,'number of shuffles')"
   ]
  },
  {
   "cell_type": "code",
   "execution_count": null,
   "id": "6e7c2259",
   "metadata": {},
   "outputs": [],
   "source": []
  },
  {
   "cell_type": "code",
   "execution_count": null,
   "id": "733d20e0",
   "metadata": {},
   "outputs": [],
   "source": []
  }
 ],
 "metadata": {
  "kernelspec": {
   "display_name": "Python 3 (ipykernel)",
   "language": "python",
   "name": "python3"
  },
  "language_info": {
   "codemirror_mode": {
    "name": "ipython",
    "version": 3
   },
   "file_extension": ".py",
   "mimetype": "text/x-python",
   "name": "python",
   "nbconvert_exporter": "python",
   "pygments_lexer": "ipython3",
   "version": "3.9.12"
  }
 },
 "nbformat": 4,
 "nbformat_minor": 5
}
